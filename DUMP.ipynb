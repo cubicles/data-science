{
 "cells": [
  {
   "cell_type": "code",
   "execution_count": 1,
   "metadata": {},
   "outputs": [],
   "source": [
    "import pandas as pd\n",
    "import numpy as np"
   ]
  },
  {
   "cell_type": "code",
   "execution_count": 4,
   "metadata": {},
   "outputs": [],
   "source": [
    "a = \"100-Gerencia General,10-Presidencia,20-Vice-Presidencia Ejecutiva,300-Gerencia De Finanzas Corp,600-Gte Corp Transformación Digital (Cio),7784-Gerencia Legal Y Gobernanza,7787-Gobernanza,7875-Proyecto Sap,813-Auditoria Interna Corp. Financiero Contable,9048-Gg Fif Corp,953-Tesorería Corporativa\""
   ]
  },
  {
   "cell_type": "code",
   "execution_count": 7,
   "metadata": {},
   "outputs": [],
   "source": [
    "alist = []\n",
    "alist = a.split(\",\")"
   ]
  },
  {
   "cell_type": "code",
   "execution_count": 8,
   "metadata": {},
   "outputs": [
    {
     "name": "stdout",
     "output_type": "stream",
     "text": [
      "['100-Gerencia General', '10-Presidencia', '20-Vice-Presidencia Ejecutiva', '300-Gerencia De Finanzas Corp', '600-Gte Corp Transformación Digital (Cio)', '7784-Gerencia Legal Y Gobernanza', '7787-Gobernanza', '7875-Proyecto Sap', '813-Auditoria Interna Corp. Financiero Contable', '9048-Gg Fif Corp', '953-Tesorería Corporativa']\n"
     ]
    }
   ],
   "source": [
    "print(alist)"
   ]
  },
  {
   "cell_type": "code",
   "execution_count": 9,
   "metadata": {},
   "outputs": [
    {
     "name": "stdout",
     "output_type": "stream",
     "text": [
      "100-Gerencia General\n",
      "10-Presidencia\n",
      "20-Vice-Presidencia Ejecutiva\n",
      "300-Gerencia De Finanzas Corp\n",
      "600-Gte Corp Transformación Digital (Cio)\n",
      "7784-Gerencia Legal Y Gobernanza\n",
      "7787-Gobernanza\n",
      "7875-Proyecto Sap\n",
      "813-Auditoria Interna Corp. Financiero Contable\n",
      "9048-Gg Fif Corp\n",
      "953-Tesorería Corporativa\n"
     ]
    }
   ],
   "source": [
    "for i in alist:\n",
    "    print(i)"
   ]
  },
  {
   "cell_type": "code",
   "execution_count": 10,
   "metadata": {},
   "outputs": [],
   "source": [
    "b = \"OC-COMERCIAL,OC-CONTABILIDAD,OC-CONTRALORÍA,OC-FINANZAS CORP.,OC-GERENCIA GENERAL,OC-JUDICIAL,OC-PRESIDENCIA,OC-TRANSFORMACION DIGITAL\""
   ]
  },
  {
   "cell_type": "code",
   "execution_count": 11,
   "metadata": {},
   "outputs": [],
   "source": [
    "blist = []\n",
    "blist = b.split(\",\")"
   ]
  },
  {
   "cell_type": "code",
   "execution_count": 14,
   "metadata": {},
   "outputs": [
    {
     "name": "stdout",
     "output_type": "stream",
     "text": [
      "OC-COMERCIAL\n",
      "OC-CONTABILIDAD\n",
      "OC-CONTRALORÍA\n",
      "OC-FINANZAS CORP.\n",
      "OC-GERENCIA GENERAL\n",
      "OC-JUDICIAL\n",
      "OC-PRESIDENCIA\n",
      "OC-TRANSFORMACION DIGITAL\n"
     ]
    }
   ],
   "source": [
    "for i in blist:\n",
    "    print(i)"
   ]
  },
  {
   "cell_type": "code",
   "execution_count": 15,
   "metadata": {},
   "outputs": [],
   "source": [
    "c = \"1080-Gerencia Gestion Humana,1457-Control De Gestion,1459-Administracion,1845-Ingeneria Y Soporte Infraestructura,1846-Produccion,1848-Servicios Usuario Final,2003-Finanzas\""
   ]
  },
  {
   "cell_type": "code",
   "execution_count": 23,
   "metadata": {},
   "outputs": [
    {
     "data": {
      "text/plain": [
       "str"
      ]
     },
     "execution_count": 23,
     "metadata": {},
     "output_type": "execute_result"
    }
   ],
   "source": [
    "type(c)"
   ]
  },
  {
   "cell_type": "code",
   "execution_count": 16,
   "metadata": {},
   "outputs": [],
   "source": [
    "clist = []\n",
    "clist = c.split(\",\")"
   ]
  },
  {
   "cell_type": "code",
   "execution_count": 17,
   "metadata": {},
   "outputs": [
    {
     "name": "stdout",
     "output_type": "stream",
     "text": [
      "1080-Gerencia Gestion Humana\n",
      "1457-Control De Gestion\n",
      "1459-Administracion\n",
      "1845-Ingeneria Y Soporte Infraestructura\n",
      "1846-Produccion\n",
      "1848-Servicios Usuario Final\n",
      "2003-Finanzas\n"
     ]
    }
   ],
   "source": [
    "for i in clist:\n",
    "    print(i)"
   ]
  },
  {
   "cell_type": "code",
   "execution_count": 18,
   "metadata": {},
   "outputs": [],
   "source": [
    "d = [\"Gerencia HR;Gerencia Comercial;Gerencia de Operaciones;Gerencia de Marketing;Gerencia Legal;Gerencia Finanzas;Gerencia de IT;Gerencia General\"]"
   ]
  },
  {
   "cell_type": "code",
   "execution_count": 25,
   "metadata": {},
   "outputs": [
    {
     "data": {
      "text/plain": [
       "1"
      ]
     },
     "execution_count": 25,
     "metadata": {},
     "output_type": "execute_result"
    }
   ],
   "source": [
    "len(d)"
   ]
  },
  {
   "cell_type": "code",
   "execution_count": 27,
   "metadata": {},
   "outputs": [
    {
     "name": "stdout",
     "output_type": "stream",
     "text": [
      "['Gerencia HR', 'Gerencia Comercial', 'Gerencia de Operaciones', 'Gerencia de Marketing', 'Gerencia Legal', 'Gerencia Finanzas', 'Gerencia de IT', 'Gerencia General']\n"
     ]
    }
   ],
   "source": [
    "for i in d:\n",
    "    e = i.split(\";\")\n",
    "    print(e)"
   ]
  },
  {
   "cell_type": "code",
   "execution_count": 29,
   "metadata": {},
   "outputs": [
    {
     "name": "stdout",
     "output_type": "stream",
     "text": [
      "Gerencia HR\n",
      "Gerencia Comercial\n",
      "Gerencia de Operaciones\n",
      "Gerencia de Marketing\n",
      "Gerencia Legal\n",
      "Gerencia Finanzas\n",
      "Gerencia de IT\n",
      "Gerencia General\n"
     ]
    }
   ],
   "source": [
    "for i in e:\n",
    "    print(i)"
   ]
  },
  {
   "cell_type": "code",
   "execution_count": 33,
   "metadata": {},
   "outputs": [
    {
     "name": "stdout",
     "output_type": "stream",
     "text": [
      "['Admin', 'Comercial', 'IT', 'Marketing', 'Operaciones', 'Operaciones HD']\n"
     ]
    }
   ],
   "source": [
    "f = [\"Admin;Comercial;IT;Marketing;Operaciones;Operaciones HD\"]\n",
    "for i in f:\n",
    "    aux = i.split(\";\")\n",
    "    print(aux)"
   ]
  },
  {
   "cell_type": "code",
   "execution_count": 34,
   "metadata": {},
   "outputs": [
    {
     "name": "stdout",
     "output_type": "stream",
     "text": [
      "Admin\n",
      "Comercial\n",
      "IT\n",
      "Marketing\n",
      "Operaciones\n",
      "Operaciones HD\n"
     ]
    }
   ],
   "source": [
    "for i in aux:\n",
    "    print(i)"
   ]
  },
  {
   "cell_type": "code",
   "execution_count": 37,
   "metadata": {},
   "outputs": [],
   "source": [
    "areascol = \"Finance;General;HR;Legal;Commercial;IT;Marketing;Content;Customer Service;Logistics;Operations;Payments;Pricing;PSC;Shipping;Telesales;Warehouse;Operations HD\""
   ]
  },
  {
   "cell_type": "code",
   "execution_count": 42,
   "metadata": {},
   "outputs": [],
   "source": [
    "segmented = areascol.split(\";\")"
   ]
  },
  {
   "cell_type": "code",
   "execution_count": 43,
   "metadata": {},
   "outputs": [
    {
     "name": "stdout",
     "output_type": "stream",
     "text": [
      "Finance\n",
      "General\n",
      "HR\n",
      "Legal\n",
      "Commercial\n",
      "IT\n",
      "Marketing\n",
      "Content\n",
      "Customer Service\n",
      "Logistics\n",
      "Operations\n",
      "Payments\n",
      "Pricing\n",
      "PSC\n",
      "Shipping\n",
      "Telesales\n",
      "Warehouse\n",
      "Operations HD\n"
     ]
    }
   ],
   "source": [
    "for i in segmented:\n",
    "    print(i)"
   ]
  },
  {
   "cell_type": "code",
   "execution_count": null,
   "metadata": {},
   "outputs": [],
   "source": []
  }
 ],
 "metadata": {
  "kernelspec": {
   "display_name": "Python 3",
   "language": "python",
   "name": "python3"
  },
  "language_info": {
   "codemirror_mode": {
    "name": "ipython",
    "version": 3
   },
   "file_extension": ".py",
   "mimetype": "text/x-python",
   "name": "python",
   "nbconvert_exporter": "python",
   "pygments_lexer": "ipython3",
   "version": "3.7.4"
  }
 },
 "nbformat": 4,
 "nbformat_minor": 4
}
